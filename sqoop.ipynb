{
 "cells": [
  {
   "cell_type": "code",
   "execution_count": 57,
   "id": "601ce345",
   "metadata": {},
   "outputs": [],
   "source": [
    "# Descargamos los datos\n",
    "# ====================="
   ]
  },
  {
   "cell_type": "code",
   "execution_count": 58,
   "id": "86847987",
   "metadata": {},
   "outputs": [],
   "source": [
    "filenames = [\n",
    "    \"drivers.csv\",\n",
    "    \"timesheet.csv\",\n",
    "    \"truck_event_text_partition.csv\",\n",
    "]\n",
    "\n",
    "url = \"https://raw.githubusercontent.com/jdvelasq/datalabs/master/datasets/drivers/\"\n",
    "\n",
    "for filename in filenames:\n",
    "    !wget --quiet {url + filename} -P /tmp/"
   ]
  },
  {
   "cell_type": "code",
   "execution_count": 59,
   "id": "8c5b5c9d-01ed-4a29-9a71-1d5102ac2418",
   "metadata": {},
   "outputs": [
    {
     "name": "stdout",
     "output_type": "stream",
     "text": [
      "/tmp/drivers.csv    /tmp/timesheet.csv  /tmp/truck_event_text_partition.csv\n",
     ]
    }
   ],
   "source": [
    "!ls /tmp/*.csv"
   ]
  },
  {
   "cell_type": "code",
   "execution_count": 60,
   "id": "f1f74bc7",
   "metadata": {},
   "outputs": [],
   "source": [
    "# Preparamos una base de datos MySQL\n",
    "# =================================="
   ]
  },
  {
   "cell_type": "code",
   "execution_count": 61,
   "id": "d287d727",
   "metadata": {},
   "outputs": [
    {
     "data": {
      "text/plain": [
       "[(10, 'George Vetticaden', '621011971', '244-4532 Nulla Rd.', 'N', 'miles'),\n",
       " (11, 'Jamie Engesser', '262112338', '366-4125 Ac Street', 'N', 'miles'),\n",
       " (12, 'Paul Coddin', '198041975', 'Ap #622-957 Risus. Street', 'Y', 'hours'),\n",
       " (13, 'Joe Niemiec', '139907145', '2071 Hendrerit. Ave', 'Y', 'hours'),\n",
       " (14, 'Adis Cesir', '820812209', 'Ap #810-1228 In St.', 'Y', 'hours')]"
      ]
     },
     "execution_count": 61,
     "metadata": {},
     "output_type": "execute_result"
    }
   ],
   "source": [
    "import mariadb\n",
    "\n",
    "conn = mariadb.connect(\n",
    "    user=\"root\",\n",
    "    password=\"\",\n",
    ")\n",
    "\n",
    "cur = conn.cursor()\n",
    "\n",
    "#\n",
    "# Creación de la BD\n",
    "#\n",
    "cur.execute(\"DROP DATABASE IF EXISTS demo_db;\")\n",
    "cur.execute(\"CREATE DATABASE demo_db;\")\n",
    "cur.execute(\"USE demo_db;\")\n",
    "\n",
    "cur.execute(\n",
    "    \"\"\"\n",
    "    DROP TABLE IF EXISTS drivers;\n",
    "    \"\"\"\n",
    ")\n",
    "\n",
    "cur.execute(\n",
    "    \"\"\"\n",
    "    CREATE TABLE drivers (\n",
    "        driverId       INT,\n",
    "        name           VARCHAR(20),\n",
    "        ssn            VARCHAR(20),\n",
    "        location       VARCHAR(40),\n",
    "        certified      VARCHAR(20),\n",
    "        wage_plan      VARCHAR(20)\n",
    "    );\n",
    "    \"\"\"\n",
    ")\n",
    "\n",
    "cur.execute(\n",
    "    \"\"\"\n",
    "    DROP TABLE IF EXISTS timesheet;\n",
    "    \"\"\"\n",
    ")\n",
    "\n",
    "cur.execute(\n",
    "    \"\"\"\n",
    "    CREATE TABLE timesheet (\n",
    "        driverId       INT,\n",
    "        week           INT,\n",
    "        hours_logged   INT,\n",
    "        miles_logged   INT\n",
    "    );\n",
    "    \"\"\"\n",
    ")\n",
    "\n",
    "conn.commit()\n",
    "\n",
    "import pandas as pd\n",
    "drivers = pd.read_csv('/tmp/drivers.csv')\n",
    "\n",
    "for i, row in drivers.iterrows():\n",
    "    sql = \"INSERT INTO drivers VALUES (%s,%s,%s,%s,%s,%s)\"\n",
    "    cur.execute(sql, tuple(row))\n",
    "    conn.commit()\n",
    "\n",
    "cur.execute(\"SELECT * FROM drivers LIMIT 5;\")\n",
    "result = cur.fetchall()\n",
    "\n",
    "\n",
    "#\n",
    "# Creación y permisos para el usuario remoto\n",
    "#\n",
    "cur.execute(\"CREATE USER 'sqoop'@'%' IDENTIFIED BY 'secret'; \")\n",
    "cur.execute(\"GRANT ALL ON demo_db.* TO 'sqoop'@'%';\")\n",
    "\n",
    "\n",
    "conn.close()\n",
    "result"
   ]
  },
  {
   "cell_type": "code",
   "execution_count": 62,
   "id": "0023f57e",
   "metadata": {},
   "outputs": [],
   "source": [
    "# Preparamos un script con un trabajo Sqoop:\n",
    "# Conexión a MySQL, listado de tablas\n",
    "# =========================================="
   ]
  },
  {
   "cell_type": "code",
   "execution_count": 63,
   "id": "bf71835f",
   "metadata": {},
   "outputs": [
    {
     "name": "stdout",
     "output_type": "stream",
     "text": [
      "Overwriting list-tables.sh\n"
     ]
    }
   ],
   "source": [
    "%%writefile list-tables.sh\n",
    "sqoop list-tables \\\n",
    "    --connect jdbc:mysql://localhost:3306/demo_db \\\n",
    "    --username sqoop \\\n",
    "    --password secret"
   ]
  },
  {
   "cell_type": "code",
   "execution_count": 64,
   "id": "89d32c57",
   "metadata": {},
   "outputs": [
    {
     "name": "stdout",
     "output_type": "stream",
     "text": [
      "timesheet\n",
      "drivers\n"
     ]
    }
   ],
   "source": [
    "!bash list-tables.sh"
   ]
  },
  {
   "cell_type": "code",
   "execution_count": 65,
   "id": "e4c684c6",
   "metadata": {},
   "outputs": [],
   "source": [
    "# Verificamos que Sqoop accede a los datos usando querys\n",
    "# ======================================================"
   ]
  },
  {
   "cell_type": "code",
   "execution_count": 66,
   "id": "82aae25c",
   "metadata": {},
   "outputs": [
    {
     "name": "stdout",
     "output_type": "stream",
     "text": [
      "Overwriting query.sh\n"
     ]
    }
   ],
   "source": [
    "%%writefile query.sh\n",
    "sqoop eval \\\n",
    "    --connect jdbc:mysql://localhost:3306/demo_db \\\n",
    "    --username sqoop \\\n",
    "    --password secret \\\n",
    "    --query \"SELECT * FROM drivers LIMIT 3\""
   ]
  },
  {
   "cell_type": "code",
   "execution_count": 67,
   "id": "04014d20",
   "metadata": {},
   "outputs": [
    {
     "name": "stdout",
     "output_type": "stream",
     "text": [
      "----------------------------------------------------------------------------------------------------------------------------------\n",
      "| driverId    | name                 | ssn                  | location             | certified            | wage_plan            | \n",
      "----------------------------------------------------------------------------------------------------------------------------------\n",
      "| 10          | George Vetticaden    | 621011971            | 244-4532 Nulla Rd.   | N                    | miles                | \n",
      "| 11          | Jamie Engesser       | 262112338            | 366-4125 Ac Street   | N                    | miles                | \n",
      "| 12          | Paul Coddin          | 198041975            | Ap #622-957 Risus. Street | Y                    | hours                | \n",
      "----------------------------------------------------------------------------------------------------------------------------------\n"
     ]
    }
   ],
   "source": [
    "!bash query.sh"
   ]
  },
  {
   "cell_type": "code",
   "execution_count": 68,
   "id": "2413f067",
   "metadata": {},
   "outputs": [],
   "source": [
    "# Importamos (Sqoop) la tabla completa\n",
    "# Comprobamos que se ha creado el fichero HDFS\n",
    "# y que tiene los contenidos esperados\n",
    "# ============================================"
   ]
  },
  {
   "cell_type": "code",
   "execution_count": 69,
   "id": "a9458533",
   "metadata": {},
   "outputs": [
    {
     "name": "stdout",
     "output_type": "stream",
     "text": [
      "Overwriting full_import.sh\n"
     ]
    }
   ],
   "source": [
    "%%writefile full_import.sh\n",
    "\n",
    "sqoop import \\\n",
    "    --connect jdbc:mysql://localhost:3306/demo_db \\\n",
    "    --username sqoop \\\n",
    "    --password secret \\\n",
    "    --table drivers \\\n",
    "    --target-dir /tmp/drivers \\\n",
    "    --m 1"
   ]
  },
  {
   "cell_type": "code",
   "execution_count": 70,
   "id": "ded8eb04",
   "metadata": {},
   "outputs": [
    {
     "name": "stdout",
     "output_type": "stream",
     "text": [
      "Note: /tmp/sqoop-root/compile/a40431b20740f3c986bb4aae7804057d/drivers.java uses or overrides a deprecated API.\n",
      "Note: Recompile with -Xlint:deprecation for details.\n"
     ]
    }
   ],
   "source": [
    "!bash full_import.sh"
   ]
  },
  {
   "cell_type": "code",
   "execution_count": 71,
   "id": "cc43aaf4",
   "metadata": {},
   "outputs": [
    {
     "name": "stdout",
     "output_type": "stream",
     "text": [
      "Found 2 items\n",
      "-rw-r--r--   1 root supergroup          0 2023-03-09 11:58 /tmp/drivers/_SUCCESS\n",
      "-rw-r--r--   1 root supergroup       1963 2023-03-09 11:58 /tmp/drivers/part-m-00000\n"
     ]
    }
   ],
   "source": [
    "!hdfs dfs -ls /tmp/drivers"
   ]
  },
  {
   "cell_type": "code",
   "execution_count": 72,
   "id": "b12b5b2a",
   "metadata": {},
   "outputs": [
    {
     "name": "stdout",
     "output_type": "stream",
     "text": [
      "10,George Vetticaden,621011971,244-4532 Nulla Rd.,N,miles\n",
      "11,Jamie Engesser,262112338,366-4125 Ac Street,N,miles\n",
      "12,Paul Coddin,198041975,Ap #622-957 Risus. Street,Y,hours\n",
      "13,Joe Niemiec,139907145,2071 Hendrerit. Ave,Y,hours\n",
      "14,Adis Cesir,820812209,Ap #810-1228 In St.,Y,hours\n",
      "15,Rohit Bakshi,239005227,648-5681 Dui- Rd.,Y,hours\n",
      "16,Tom McCuch,363303105,P.O. Box 313- 962 Parturient Rd.,Y,hours\n",
      "17,Eric Mizell,123808238,P.O. Box 579- 2191 Gravida. Street,Y,hours\n",
      "18,Grant Liu,171010151,Ap #928-3159 Vestibulum Av.,Y,hours\n",
      "19,Ajay Singh,160005158,592-9430 Nonummy Avenue,Y,hours\n"
     ]
    }
   ],
   "source": [
    "!hdfs dfs -cat /tmp/drivers/part-m-00000 | head -n 10"
   ]
  },
  {
   "cell_type": "code",
   "execution_count": 73,
   "id": "398a47a4",
   "metadata": {},
   "outputs": [],
   "source": [
    "# Usamos Sqoop para importar parte de una tabla a HDFS\n",
    "# ===================================================="
   ]
  },
  {
   "cell_type": "code",
   "execution_count": 74,
   "id": "0413eb66",
   "metadata": {},
   "outputs": [
    {
     "name": "stdout",
     "output_type": "stream",
     "text": [
      "Overwriting partial-import.sh\n"
     ]
    }
   ],
   "source": [
    "%%writefile partial-import.sh\n",
    "\n",
    "hdfs dfs -rm -r /tmp/drivers\n",
    "\n",
    "sqoop import \\\n",
    "    --connect jdbc:mysql://localhost:3306/demo_db \\\n",
    "    --username sqoop \\\n",
    "    --password secret \\\n",
    "    --table drivers \\\n",
    "    --target-dir /tmp/drivers/ \\\n",
    "    -m 1 \\\n",
    "    --where \"driverId=10\""
   ]
  },
  {
   "cell_type": "code",
   "execution_count": 75,
   "id": "b734e0fa",
   "metadata": {},
   "outputs": [
    {
     "name": "stdout",
     "output_type": "stream",
     "text": [
      "Deleted /tmp/drivers\n",
      "Note: /tmp/sqoop-root/compile/8200b2518c2c46121fcb77290bf67e5a/drivers.java uses or overrides a deprecated API.\n",
      "Note: Recompile with -Xlint:deprecation for details.\n"
     ]
    }
   ],
   "source": [
    "!bash partial-import.sh"
   ]
  },
  {
   "cell_type": "code",
   "execution_count": 76,
   "id": "92ce8e1d",
   "metadata": {},
   "outputs": [
    {
     "name": "stdout",
     "output_type": "stream",
     "text": [
      "Found 2 items\n",
      "-rw-r--r--   1 root supergroup          0 2023-03-09 11:58 /tmp/drivers/_SUCCESS\n",
      "-rw-r--r--   1 root supergroup         58 2023-03-09 11:58 /tmp/drivers/part-m-00000\n"
     ]
    }
   ],
   "source": [
    "!hdfs dfs -ls /tmp/drivers/"
   ]
  },
  {
   "cell_type": "code",
   "execution_count": 77,
   "id": "d69e49b2",
   "metadata": {},
   "outputs": [
    {
     "name": "stdout",
     "output_type": "stream",
     "text": [
      "10,George Vetticaden,621011971,244-4532 Nulla Rd.,N,miles\n"
     ]
    }
   ],
   "source": [
    "!hdfs dfs -cat /tmp/drivers/part-m-00000"
   ]
  },
  {
   "cell_type": "code",
   "execution_count": 78,
   "id": "cf9a0d80",
   "metadata": {},
   "outputs": [
    {
     "name": "stdout",
     "output_type": "stream",
     "text": [
      "10,1,70,3300\n",
      "10,2,70,3300\n",
      "10,3,60,2800\n",
      "10,4,70,3100\n",
      "10,5,70,3200\n"
     ]
    }
   ],
   "source": [
    "# Llevamos el fichero timesheet.csv al HDFS\n",
    "# Antes hacemos una copia, eliminando la\n",
    "# primera fila del fichero (etiquetas)\n",
    "# ========================================\n",
    "!tail +2 /tmp/timesheet.csv > /tmp/timesheet1.csv\n",
    "!head -n 5 /tmp/timesheet1.csv"
   ]
  },
  {
   "cell_type": "code",
   "execution_count": 79,
   "id": "e2b44260",
   "metadata": {},
   "outputs": [
    {
     "name": "stdout",
     "output_type": "stream",
     "text": [
      "rm: `/tmp/timesheet.csv': No such file or directory\n",
      "Found 3 items\n",
      "drwxr-xr-x   - root supergroup          0 2023-03-09 11:58 /tmp/drivers\n",
      "drwxrwx---   - root supergroup          0 2023-03-09 11:33 /tmp/hadoop-yarn\n",
      "-rw-r--r--   1 root supergroup      26164 2023-03-09 11:59 /tmp/timesheet.csv\n"
     ]
    }
   ],
   "source": [
    "!hdfs dfs -rm /tmp/timesheet.csv\n",
    "!hdfs dfs -copyFromLocal /tmp/timesheet1.csv /tmp/timesheet.csv\n",
    "!hdfs dfs -ls /tmp/"
   ]
  },
  {
   "cell_type": "code",
   "execution_count": 80,
   "id": "cf3a50ce",
   "metadata": {},
   "outputs": [],
   "source": [
    "# Exportamos datos desde HDFS a MySQL\n",
    "# Y verificamos que están correctamente\n",
    "# ====================================="
   ]
  },
  {
   "cell_type": "code",
   "execution_count": 81,
   "id": "7be29ab1",
   "metadata": {},
   "outputs": [
    {
     "name": "stdout",
     "output_type": "stream",
     "text": [
      "Overwriting export.sh\n"
     ]
    }
   ],
   "source": [
    "%%writefile export.sh\n",
    "\n",
    "sqoop export \\\n",
    "    --connect jdbc:mysql://localhost:3306/demo_db \\\n",
    "    --username sqoop \\\n",
    "    --password secret \\\n",
    "    --table timesheet \\\n",
    "    --export-dir /tmp/timesheet.csv"
   ]
  },
  {
   "cell_type": "code",
   "execution_count": 82,
   "id": "cf69da33",
   "metadata": {},
   "outputs": [
    {
     "name": "stdout",
     "output_type": "stream",
     "text": [
      "Note: /tmp/sqoop-root/compile/1a29df9468b49b4c43981341f8918290/timesheet.java uses or overrides a deprecated API.\n",
      "Note: Recompile with -Xlint:deprecation for details.\n"
     ]
    }
   ],
   "source": [
    "!bash export.sh"
   ]
  },
  {
   "cell_type": "code",
   "execution_count": 83,
   "id": "19023088",
   "metadata": {},
   "outputs": [
    {
     "data": {
      "text/plain": [
       "[(10, 1, 70, 3300),\n",
       " (10, 2, 70, 3300),\n",
       " (10, 5, 70, 3200),\n",
       " (10, 3, 60, 2800),\n",
       " (10, 4, 70, 3100)]"
      ]
     },
     "execution_count": 83,
     "metadata": {},
     "output_type": "execute_result"
    }
   ],
   "source": [
    "conn = mariadb.connect(\n",
    "    user=\"root\",\n",
    "    password=\"\",\n",
    "    database=\"demo_db\"\n",
    ")\n",
    "cur = conn.cursor()\n",
    "\n",
    "cur.execute(\n",
    "    \"\"\"\n",
    "    SELECT * FROM timesheet ORDER BY 1 LIMIT 5;\n",
    "    \"\"\"\n",
    ")\n",
    "result = cur.fetchall()\n",
    "conn.close()\n",
    "result"
   ]
  },
  {
   "cell_type": "code",
   "execution_count": 84,
   "id": "07df3299",
   "metadata": {},
   "outputs": [
    {
     "name": "stdout",
     "output_type": "stream",
     "text": [
      "rm: cannot remove '*.log': No such file or directory\n"
     ]
    }
   ],
   "source": [
    "# Ahora tocaría hacer limpieza\n",
    "!rm *.java *.sh *.log\n",
    "# ============================"
   ]
  },
  {
   "cell_type": "code",
   "execution_count": 85,
   "id": "e2261200-c56c-4538-bdbe-4e7f09856a36",
   "metadata": {},
   "outputs": [
    {
     "name": "stdout",
     "output_type": "stream",
     "text": [
      "Found 3 items\n",
      "drwxr-xr-x   - root supergroup          0 2023-03-09 11:58 /tmp/drivers\n",
      "drwxrwx---   - root supergroup          0 2023-03-09 11:33 /tmp/hadoop-yarn\n",
      "-rw-r--r--   1 root supergroup      26164 2023-03-09 11:59 /tmp/timesheet.csv\n"
     ]
    }
   ],
   "source": [
    "!hadoop fs -ls /tmp"
   ]
  },
  {
   "cell_type": "code",
   "execution_count": 86,
   "id": "82f44216-851e-45ec-8066-83532878bac8",
   "metadata": {},
   "outputs": [
    {
     "name": "stdout",
     "output_type": "stream",
     "text": [
      "Deleted /tmp/drivers\n"
     ]
    }
   ],
   "source": [
    "!hadoop fs -rm -r /tmp/drivers"
   ]
  },
  {
   "cell_type": "code",
   "execution_count": 87,
   "id": "484a5af9-6ae2-4c9d-8f52-823beb0113fb",
   "metadata": {},
   "outputs": [
    {
     "name": "stdout",
     "output_type": "stream",
     "text": [
      "Deleted /tmp/timesheet.csv\n"
     ]
    }
   ],
   "source": [
    "!hadoop fs -rm -r /tmp/timesheet.csv"
   ]
  },
  {
   "cell_type": "code",
   "execution_count": null,
   "id": "f2d5632c-3443-49ee-9a4e-d269a897594f",
   "metadata": {},
   "outputs": [],
   "source": []
  }
 ],
 "metadata": {
  "kernelspec": {
   "display_name": "Python 3 (ipykernel)",
   "language": "python",
   "name": "python3"
  },
  "language_info": {
   "codemirror_mode": {
    "name": "ipython",
    "version": 3
   },
   "file_extension": ".py",
   "mimetype": "text/x-python",
   "name": "python",
   "nbconvert_exporter": "python",
   "pygments_lexer": "ipython3",
   "version": "3.8.10"
  }
 },
 "nbformat": 4,
 "nbformat_minor": 5
}
