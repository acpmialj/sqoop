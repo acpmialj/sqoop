{
 "cells": [
  {
   "cell_type": "code",
   "execution_count": null,
   "id": "601ce345",
   "metadata": {},
   "outputs": [],
   "source": [
    "# Descargamos los datos\n",
    "# ====================="
   ]
  },
  {
   "cell_type": "code",
   "execution_count": 1,
   "id": "86847987",
   "metadata": {},
   "outputs": [],
   "source": [
    "filenames = [\n",
    "    \"drivers.csv\",\n",
    "    \"timesheet.csv\",\n",
    "    \"truck_event_text_partition.csv\",\n",
    "]\n",
    "\n",
    "url = \"https://raw.githubusercontent.com/jdvelasq/datalabs/master/datasets/drivers/\"\n",
    "\n",
    "for filename in filenames:\n",
    "    !wget --quiet {url + filename} -P /tmp/"
   ]
  },
  {
   "cell_type": "code",
   "execution_count": 6,
   "id": "f1f74bc7",
   "metadata": {},
   "outputs": [],
   "source": [
    "# Preparamos una base de datos MySQL\n",
    "# =================================="
   ]
  },
  {
   "cell_type": "code",
   "execution_count": 5,
   "id": "d287d727",
   "metadata": {},
   "outputs": [
    {
     "data": {
      "text/plain": [
       "[(10, 'George Vetticaden', '621011971', '244-4532 Nulla Rd.', 'N', 'miles'),\n",
       " (11, 'Jamie Engesser', '262112338', '366-4125 Ac Street', 'N', 'miles'),\n",
       " (12, 'Paul Coddin', '198041975', 'Ap #622-957 Risus. Street', 'Y', 'hours'),\n",
       " (13, 'Joe Niemiec', '139907145', '2071 Hendrerit. Ave', 'Y', 'hours'),\n",
       " (14, 'Adis Cesir', '820812209', 'Ap #810-1228 In St.', 'Y', 'hours')]"
      ]
     },
     "execution_count": 5,
     "metadata": {},
     "output_type": "execute_result"
    }
   ],
   "source": [
    "import mariadb\n",
    "\n",
    "conn = mariadb.connect(\n",
    "    user=\"root\",\n",
    "    password=\"\",\n",
    ")\n",
    "\n",
    "cur = conn.cursor()\n",
    "\n",
    "#\n",
    "# Creación de la BD\n",
    "#\n",
    "cur.execute(\"DROP DATABASE IF EXISTS demo_db;\")\n",
    "cur.execute(\"CREATE DATABASE demo_db;\")\n",
    "cur.execute(\"USE demo_db;\")\n",
    "\n",
    "cur.execute(\n",
    "    \"\"\"\n",
    "    DROP TABLE IF EXISTS drivers;\n",
    "    \"\"\"\n",
    ")\n",
    "\n",
    "cur.execute(\n",
    "    \"\"\"\n",
    "    CREATE TABLE drivers (\n",
    "        driverId       INT,\n",
    "        name           VARCHAR(20),\n",
    "        ssn            VARCHAR(20),\n",
    "        location       VARCHAR(40),\n",
    "        certified      VARCHAR(20),\n",
    "        wage_plan      VARCHAR(20)\n",
    "    );\n",
    "    \"\"\"\n",
    ")\n",
    "\n",
    "cur.execute(\n",
    "    \"\"\"\n",
    "    DROP TABLE IF EXISTS timesheet;\n",
    "    \"\"\"\n",
    ")\n",
    "\n",
    "cur.execute(\n",
    "    \"\"\"\n",
    "    CREATE TABLE timesheet (\n",
    "        driverId       INT,\n",
    "        week           INT,\n",
    "        hours_logged   INT,\n",
    "        miles_logged   INT\n",
    "    );\n",
    "    \"\"\"\n",
    ")\n",
    "\n",
    "conn.commit()\n",
    "\n",
    "import pandas as pd\n",
    "drivers = pd.read_csv('/tmp/drivers.csv')\n",
    "\n",
    "for i, row in drivers.iterrows():\n",
    "    sql = \"INSERT INTO drivers VALUES (%s,%s,%s,%s,%s,%s)\"\n",
    "    cur.execute(sql, tuple(row))\n",
    "    conn.commit()\n",
    "\n",
    "cur.execute(\"SELECT * FROM drivers LIMIT 5;\")\n",
    "result = cur.fetchall()\n",
    "\n",
    "\n",
    "#\n",
    "# Creación y permisos para el usuario remoto\n",
    "#\n",
    "cur.execute(\"CREATE USER 'sqoop'@'%' IDENTIFIED BY 'secret'; \")\n",
    "cur.execute(\"GRANT ALL ON demo_db.* TO 'sqoop'@'%';\")\n",
    "\n",
    "\n",
    "conn.close()\n",
    "result"
   ]
  },
  {
   "cell_type": "code",
   "execution_count": 9,
   "id": "0023f57e",
   "metadata": {},
   "outputs": [],
   "source": [
    "# Preparamos un script con un trabajo Sqoop:\n",
    "# Conexión a MySQL, listado de tablas\n",
    "# =========================================="
   ]
  },
  {
   "cell_type": "code",
   "execution_count": 10,
   "id": "bf71835f",
   "metadata": {},
   "outputs": [
    {
     "name": "stdout",
     "output_type": "stream",
     "text": [
      "Writing list-tables.sh\n"
     ]
    }
   ],
   "source": [
    "%%writefile list-tables.sh\n",
    "sqoop list-tables \\\n",
    "    --connect jdbc:mysql://localhost:3306/demo_db \\\n",
    "    --username sqoop \\\n",
    "    --password secret"
   ]
  },
  {
   "cell_type": "code",
   "execution_count": 12,
   "id": "89d32c57",
   "metadata": {},
   "outputs": [
    {
     "name": "stdout",
     "output_type": "stream",
     "text": [
      "timesheet\r\n",
      "drivers\r\n"
     ]
    }
   ],
   "source": [
    "!bash list-tables.sh"
   ]
  },
  {
   "cell_type": "code",
   "execution_count": 13,
   "id": "e4c684c6",
   "metadata": {},
   "outputs": [],
   "source": [
    "# Verificamos que Sqoop accede a los datos usando querys\n",
    "# ======================================================"
   ]
  },
  {
   "cell_type": "code",
   "execution_count": 14,
   "id": "82aae25c",
   "metadata": {},
   "outputs": [
    {
     "name": "stdout",
     "output_type": "stream",
     "text": [
      "Writing query.sh\n"
     ]
    }
   ],
   "source": [
    "%%writefile query.sh\n",
    "sqoop eval \\\n",
    "    --connect jdbc:mysql://localhost:3306/demo_db \\\n",
    "    --username sqoop \\\n",
    "    --password secret \\\n",
    "    --query \"SELECT * FROM drivers LIMIT 3\""
   ]
  },
  {
   "cell_type": "code",
   "execution_count": 15,
   "id": "04014d20",
   "metadata": {},
   "outputs": [
    {
     "name": "stdout",
     "output_type": "stream",
     "text": [
      "----------------------------------------------------------------------------------------------------------------------------------\r\n",
      "| driverId    | name                 | ssn                  | location             | certified            | wage_plan            | \r\n",
      "----------------------------------------------------------------------------------------------------------------------------------\r\n",
      "| 10          | George Vetticaden    | 621011971            | 244-4532 Nulla Rd.   | N                    | miles                | \r\n",
      "| 11          | Jamie Engesser       | 262112338            | 366-4125 Ac Street   | N                    | miles                | \r\n",
      "| 12          | Paul Coddin          | 198041975            | Ap #622-957 Risus. Street | Y                    | hours                | \r\n",
      "----------------------------------------------------------------------------------------------------------------------------------\r\n"
     ]
    }
   ],
   "source": [
    "!bash query.sh"
   ]
  },
  {
   "cell_type": "code",
   "execution_count": 16,
   "id": "2413f067",
   "metadata": {},
   "outputs": [],
   "source": [
    "# Importamos (Sqoop) la tabla completa\n",
    "# Comprobamos que se ha creado el fichero HDFS\n",
    "# y que tiene los contenidos esperados\n",
    "# ============================================"
   ]
  },
  {
   "cell_type": "code",
   "execution_count": 17,
   "id": "a9458533",
   "metadata": {},
   "outputs": [
    {
     "name": "stdout",
     "output_type": "stream",
     "text": [
      "Writing full_import.sh\n"
     ]
    }
   ],
   "source": [
    "%%writefile full_import.sh\n",
    "\n",
    "sqoop import \\\n",
    "    --connect jdbc:mysql://localhost:3306/demo_db \\\n",
    "    --username sqoop \\\n",
    "    --password secret \\\n",
    "    --table drivers \\\n",
    "    --target-dir /tmp/drivers \\\n",
    "    --m 1"
   ]
  },
  {
   "cell_type": "code",
   "execution_count": 18,
   "id": "ded8eb04",
   "metadata": {},
   "outputs": [
    {
     "name": "stdout",
     "output_type": "stream",
     "text": [
      "Note: /tmp/sqoop-root/compile/6b0f300e12e110262c7c3947e95bdd7d/drivers.java uses or overrides a deprecated API.\r\n",
      "Note: Recompile with -Xlint:deprecation for details.\r\n"
     ]
    }
   ],
   "source": [
    "!bash full_import.sh"
   ]
  },
  {
   "cell_type": "code",
   "execution_count": 19,
   "id": "cc43aaf4",
   "metadata": {},
   "outputs": [
    {
     "name": "stdout",
     "output_type": "stream",
     "text": [
      "Found 2 items\r\n",
      "-rw-r--r--   1 root supergroup          0 2022-11-17 14:14 /tmp/drivers/_SUCCESS\r\n",
      "-rw-r--r--   1 root supergroup       1963 2022-11-17 14:14 /tmp/drivers/part-m-00000\r\n"
     ]
    }
   ],
   "source": [
    "!hdfs dfs -ls /tmp/drivers"
   ]
  },
  {
   "cell_type": "code",
   "execution_count": 20,
   "id": "b12b5b2a",
   "metadata": {},
   "outputs": [
    {
     "name": "stdout",
     "output_type": "stream",
     "text": [
      "10,George Vetticaden,621011971,244-4532 Nulla Rd.,N,miles\r\n",
      "11,Jamie Engesser,262112338,366-4125 Ac Street,N,miles\r\n",
      "12,Paul Coddin,198041975,Ap #622-957 Risus. Street,Y,hours\r\n",
      "13,Joe Niemiec,139907145,2071 Hendrerit. Ave,Y,hours\r\n",
      "14,Adis Cesir,820812209,Ap #810-1228 In St.,Y,hours\r\n",
      "15,Rohit Bakshi,239005227,648-5681 Dui- Rd.,Y,hours\r\n",
      "16,Tom McCuch,363303105,P.O. Box 313- 962 Parturient Rd.,Y,hours\r\n",
      "17,Eric Mizell,123808238,P.O. Box 579- 2191 Gravida. Street,Y,hours\r\n",
      "18,Grant Liu,171010151,Ap #928-3159 Vestibulum Av.,Y,hours\r\n",
      "19,Ajay Singh,160005158,592-9430 Nonummy Avenue,Y,hours\r\n"
     ]
    }
   ],
   "source": [
    "!hdfs dfs -cat /tmp/drivers/part-m-00000 | head -n 10"
   ]
  },
  {
   "cell_type": "code",
   "execution_count": 21,
   "id": "398a47a4",
   "metadata": {},
   "outputs": [],
   "source": [
    "# Usamos Sqoop para importar parte de una tabla a HDFS\n",
    "# ===================================================="
   ]
  },
  {
   "cell_type": "code",
   "execution_count": 22,
   "id": "0413eb66",
   "metadata": {},
   "outputs": [
    {
     "name": "stdout",
     "output_type": "stream",
     "text": [
      "Writing partial-import.sh\n"
     ]
    }
   ],
   "source": [
    "%%writefile partial-import.sh\n",
    "\n",
    "hdfs dfs -rm -r /tmp/drivers\n",
    "\n",
    "sqoop import \\\n",
    "    --connect jdbc:mysql://localhost:3306/demo_db \\\n",
    "    --username sqoop \\\n",
    "    --password secret \\\n",
    "    --table drivers \\\n",
    "    --target-dir /tmp/drivers/ \\\n",
    "    -m 1 \\\n",
    "    --where \"driverId=10\""
   ]
  },
  {
   "cell_type": "code",
   "execution_count": 23,
   "id": "b734e0fa",
   "metadata": {},
   "outputs": [
    {
     "name": "stdout",
     "output_type": "stream",
     "text": [
      "Deleted /tmp/drivers\n",
      "Note: /tmp/sqoop-root/compile/58aaa05d4a7c69aaa9314937740cbdfc/drivers.java uses or overrides a deprecated API.\n",
      "Note: Recompile with -Xlint:deprecation for details.\n"
     ]
    }
   ],
   "source": [
    "!bash partial-import.sh"
   ]
  },
  {
   "cell_type": "code",
   "execution_count": 24,
   "id": "92ce8e1d",
   "metadata": {},
   "outputs": [
    {
     "name": "stdout",
     "output_type": "stream",
     "text": [
      "Found 2 items\r\n",
      "-rw-r--r--   1 root supergroup          0 2022-11-17 14:17 /tmp/drivers/_SUCCESS\r\n",
      "-rw-r--r--   1 root supergroup         58 2022-11-17 14:17 /tmp/drivers/part-m-00000\r\n"
     ]
    }
   ],
   "source": [
    "!hdfs dfs -ls /tmp/drivers/"
   ]
  },
  {
   "cell_type": "code",
   "execution_count": 25,
   "id": "d69e49b2",
   "metadata": {},
   "outputs": [
    {
     "name": "stdout",
     "output_type": "stream",
     "text": [
      "10,George Vetticaden,621011971,244-4532 Nulla Rd.,N,miles\r\n"
     ]
    }
   ],
   "source": [
    "!hdfs dfs -cat /tmp/drivers/part-m-00000"
   ]
  },
  {
   "cell_type": "code",
   "execution_count": 46,
   "id": "cf9a0d80",
   "metadata": {},
   "outputs": [
    {
     "name": "stdout",
     "output_type": "stream",
     "text": [
      "\r\n",
      "\r\n",
      "\r\n",
      "\r\n",
      "\r\n"
     ]
    }
   ],
   "source": [
    "# Llevamos el fichero timesheet.csv al HDFS\n",
    "# Antes hacemos una copia, eliminando la\n",
    "# primera fila del fichero (etiquetas)\n",
    "# ========================================\n",
    "!tail +2 /tmp/timesheet.csv > /tmp/timesheet1.csv\n",
    "!head -n 5 /tmp/timesheet1.csv"
   ]
  },
  {
   "cell_type": "code",
   "execution_count": 36,
   "id": "e2b44260",
   "metadata": {},
   "outputs": [
    {
     "name": "stdout",
     "output_type": "stream",
     "text": [
      "rm: `/tmp/timesheet.csv': No such file or directory\n",
      "Found 3 items\n",
      "drwxr-xr-x   - root supergroup          0 2022-11-17 14:17 /tmp/drivers\n",
      "drwxrwx---   - root supergroup          0 2022-11-17 13:58 /tmp/hadoop-yarn\n",
      "-rw-r--r--   1 root supergroup      26164 2022-11-17 14:30 /tmp/timesheet.csv\n"
     ]
    }
   ],
   "source": [
    "!hdfs dfs -rm /tmp/timesheet.csv\n",
    "!hdfs dfs -copyFromLocal /tmp/timesheet1.csv /tmp/timesheet.csv\n",
    "!hdfs dfs -ls /tmp/"
   ]
  },
  {
   "cell_type": "code",
   "execution_count": 28,
   "id": "cf3a50ce",
   "metadata": {},
   "outputs": [],
   "source": [
    "# Exportamos datos desde HDFS a MySQL\n",
    "# Y verificamos que están correctamente\n",
    "# ====================================="
   ]
  },
  {
   "cell_type": "code",
   "execution_count": 29,
   "id": "7be29ab1",
   "metadata": {},
   "outputs": [
    {
     "name": "stdout",
     "output_type": "stream",
     "text": [
      "Writing export.sh\n"
     ]
    }
   ],
   "source": [
    "%%writefile export.sh\n",
    "\n",
    "sqoop export \\\n",
    "    --connect jdbc:mysql://localhost:3306/demo_db \\\n",
    "    --username sqoop \\\n",
    "    --password secret \\\n",
    "    --table timesheet \\\n",
    "    --export-dir /tmp/timesheet.csv"
   ]
  },
  {
   "cell_type": "code",
   "execution_count": 37,
   "id": "cf69da33",
   "metadata": {},
   "outputs": [
    {
     "name": "stdout",
     "output_type": "stream",
     "text": [
      "Note: /tmp/sqoop-root/compile/d0350e188606b0e90304bf2ad0bde78d/timesheet.java uses or overrides a deprecated API.\r\n",
      "Note: Recompile with -Xlint:deprecation for details.\r\n"
     ]
    }
   ],
   "source": [
    "!bash export.sh"
   ]
  },
  {
   "cell_type": "code",
   "execution_count": 45,
   "id": "19023088",
   "metadata": {},
   "outputs": [
    {
     "data": {
      "text/plain": [
       "[(10, 1, 70, 3300),\n",
       " (10, 2, 70, 3300),\n",
       " (10, 5, 70, 3200),\n",
       " (10, 3, 60, 2800),\n",
       " (10, 4, 70, 3100)]"
      ]
     },
     "execution_count": 45,
     "metadata": {},
     "output_type": "execute_result"
    }
   ],
   "source": [
    "conn = mariadb.connect(\n",
    "    user=\"root\",\n",
    "    password=\"\",\n",
    "    database=\"demo_db\"\n",
    ")\n",
    "cur = conn.cursor()\n",
    "\n",
    "cur.execute(\n",
    "    \"\"\"\n",
    "    SELECT * FROM timesheet ORDER BY 1 LIMIT 5;\n",
    "    \"\"\"\n",
    ")\n",
    "result = cur.fetchall()\n",
    "conn.close()\n",
    "result"
   ]
  },
  {
   "cell_type": "code",
   "execution_count": null,
   "id": "07df3299",
   "metadata": {},
   "outputs": [],
   "source": [
    "# Ahora tocaría hacer limpieza\n",
    "# !rm *.java *.sh *.log\n",
    "# ============================"
   ]
  }
 ],
 "metadata": {
  "kernelspec": {
   "display_name": "Python 3 (ipykernel)",
   "language": "python",
   "name": "python3"
  },
  "language_info": {
   "codemirror_mode": {
    "name": "ipython",
    "version": 3
   },
   "file_extension": ".py",
   "mimetype": "text/x-python",
   "name": "python",
   "nbconvert_exporter": "python",
   "pygments_lexer": "ipython3",
   "version": "3.8.10"
  }
 },
 "nbformat": 4,
 "nbformat_minor": 5
}
